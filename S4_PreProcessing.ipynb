{
 "cells": [
  {
   "cell_type": "markdown",
   "metadata": {},
   "source": [
    "### Process Overview:\n",
    "- Input: sampled_100.json \n",
    "\n",
    "- Output: preprocessed_100.json"
   ]
  },
  {
   "cell_type": "markdown",
   "metadata": {},
   "source": [
    "##### Text Preprocessing Steps: \n",
    "- Lowercasing: Convert all text to lowercase to ensure consitency \n",
    "\n",
    "- Tokenization: Split the text into individual words or tokens.  \n",
    "\n",
    "- Removing Punctuation: Eliminate punctuation marks  \n",
    "\n",
    "- Removing Stopwords: Remove common words like \"the\", \"is\"   \n",
    "\n",
    "- Stemming or Lemmatization: Reduce words to  theirs root form  \n",
    "\n",
    "- Removing Numbers and Special Characters  \n",
    "\n",
    "- Removing Extra Whitespaces "
   ]
  },
  {
   "cell_type": "markdown",
   "metadata": {},
   "source": [
    "##### Tokenization Using BertTokenizer (for BERT Vectorization)"
   ]
  },
  {
   "cell_type": "code",
   "execution_count": 1,
   "metadata": {},
   "outputs": [
    {
     "name": "stderr",
     "output_type": "stream",
     "text": [
      "/Library/Frameworks/Python.framework/Versions/3.12/lib/python3.12/site-packages/tqdm/auto.py:21: TqdmWarning: IProgress not found. Please update jupyter and ipywidgets. See https://ipywidgets.readthedocs.io/en/stable/user_install.html\n",
      "  from .autonotebook import tqdm as notebook_tqdm\n"
     ]
    }
   ],
   "source": [
    "import json\n",
    "import string\n",
    "from nltk.corpus import stopwords\n",
    "from nltk.stem import PorterStemmer, WordNetLemmatizer\n",
    "from transformers import BertTokenizer\n",
    "\n",
    "def preprocess_corpus(input_file_path, output_file_path):\n",
    "    # Open and read the JSON file\n",
    "    with open(input_file_path, 'r', encoding='utf-8') as f:\n",
    "        data = json.load(f)\n",
    "\n",
    "    # Initialize the stopwords, stemmer, lemmatizer, and tokenizer\n",
    "    stop_words = set(stopwords.words('english'))\n",
    "    stemmer = PorterStemmer()\n",
    "    lemmatizer = WordNetLemmatizer()\n",
    "    tokenizer = BertTokenizer.from_pretrained('bert-base-uncased')\n",
    "\n",
    "    # Add custom stopwords\n",
    "    custom_stopwords = {'said', 'could', 'might', 'like', 'also', 'would', \n",
    "                        'abstract', 'copyright'}\n",
    "    stop_words.update(custom_stopwords)\n",
    "\n",
    "    # Define the preprocessing function:\n",
    "    def preprocess_text(text):\n",
    "        # Lowercasing\n",
    "        text = text.lower()\n",
    "\n",
    "        # Tokenization using BertTokenizer\n",
    "        tokens = tokenizer.tokenize(text)\n",
    "\n",
    "        # Removing punctuation and special tokens introduced by BERT (like ##)\n",
    "        tokens = [word for word in tokens if word not in string.punctuation and not word.startswith('##')]\n",
    "\n",
    "        # Removing Stopwords and single characters\n",
    "        tokens = [word for word in tokens if word not in stop_words and len(word) > 1]\n",
    "\n",
    "        # Lemmatization\n",
    "        tokens = [lemmatizer.lemmatize(word) for word in tokens]\n",
    "\n",
    "        # Removing Numbers and Special Characters\n",
    "        tokens = [word for word in tokens if word.isalpha()]\n",
    "\n",
    "        # Join tokens back into text\n",
    "        processed_text = ' '.join(tokens)\n",
    "\n",
    "        return processed_text\n",
    "\n",
    "    # Preprocess each story in the data, retaining only the preprocessed text\n",
    "    preprocessed_data = []\n",
    "    for story in data:\n",
    "        preprocessed_text = preprocess_text(story['story_text'])\n",
    "        preprocessed_data.append(preprocessed_text)\n",
    "\n",
    "    # Write the preprocessed data to the output file\n",
    "    with open(output_file_path, 'w', encoding='utf-8') as f:\n",
    "        json.dump(preprocessed_data, f, ensure_ascii=False, indent=4)\n",
    "\n",
    "# Example usage\n",
    "input_file_path = 'sampled_500.json'\n",
    "output_file_path = 'tokenizedBERT_500.json'\n",
    "preprocess_corpus(input_file_path, output_file_path)\n"
   ]
  },
  {
   "cell_type": "markdown",
   "metadata": {},
   "source": [
    "##### Adding Story_ID for Documents"
   ]
  },
  {
   "cell_type": "code",
   "execution_count": 2,
   "metadata": {},
   "outputs": [],
   "source": [
    "import json\n",
    "\n",
    "def strip_metainfo(input_file_path, output_file_path):\n",
    "    # Read the JSON file\n",
    "    with open(input_file_path, 'r') as infile:\n",
    "        stories = json.load(infile)\n",
    "    \n",
    "    # Process each story to strip meta info\n",
    "    stripped_stories = []\n",
    "    for idx, story in enumerate(stories, start=1):\n",
    "        # Find the position of the word 'body'\n",
    "        body_index = story.find('body')\n",
    "        if body_index != -1:\n",
    "            # Extract the content after the word 'body'\n",
    "            stripped_story = story[body_index + len('body'):].strip()\n",
    "            # Create a dictionary with story_ID and stripped story\n",
    "            stripped_stories.append({\"ID\": idx, \"Text\": stripped_story})\n",
    "    \n",
    "    # Write the stripped content to a new JSON file\n",
    "    with open(output_file_path, 'w') as outfile:\n",
    "        json.dump(stripped_stories, outfile, indent=2)\n",
    "\n",
    "# Example usage\n",
    "input_file_path = 'tokenizedBERT_500.json'\n",
    "output_file_path = 'tokenizedBERT_ID_500.json'\n",
    "strip_metainfo(input_file_path, output_file_path)"
   ]
  },
  {
   "cell_type": "markdown",
   "metadata": {},
   "source": [
    "##### Tokenization Using Ordinary Tokenizer (for LDA Topic Modeling)"
   ]
  },
  {
   "cell_type": "code",
   "execution_count": 3,
   "metadata": {},
   "outputs": [],
   "source": [
    "import json\n",
    "import string\n",
    "from nltk.tokenize import word_tokenize\n",
    "from nltk.corpus import stopwords\n",
    "from nltk.stem import PorterStemmer, WordNetLemmatizer\n",
    "\n",
    "def preprocess_corpus(input_file_path, output_file_path):\n",
    "    # Open and read the JSON file\n",
    "    with open(input_file_path, 'r', encoding='utf-8') as f:\n",
    "        data = json.load(f)\n",
    "\n",
    "    # Initialize the stopwords, stemmer, and other required objects\n",
    "    stop_words = set(stopwords.words('english'))\n",
    "    stemmer = PorterStemmer()\n",
    "    lemmatizer = WordNetLemmatizer()\n",
    "\n",
    "    # Add custom stopwords\n",
    "    custom_stopwords = {'said', 'could', 'might', 'like', 'also', 'would'}\n",
    "    stop_words.update(custom_stopwords)\n",
    "\n",
    "    # Define the preprocessing function:\n",
    "    def preprocess_text(text):\n",
    "        # Lowercasing\n",
    "        text = text.lower() \n",
    "\n",
    "        # Tokenization\n",
    "        tokens = word_tokenize(text) \n",
    "\n",
    "        # Removing Punctuation\n",
    "        tokens = [word for word in tokens if word not in string.punctuation]\n",
    "\n",
    "        # Removing Stopwords and single characters\n",
    "        tokens = [word for word in tokens if word not in stop_words and len(word) > 1]\n",
    "\n",
    "        # Lemmatization\n",
    "        tokens = [lemmatizer.lemmatize(word) for word in tokens]\n",
    "\n",
    "        # Removing Numbers and Special Characters\n",
    "        tokens = [word for word in tokens if word.isalpha()]\n",
    "\n",
    "        # Join tokens back into text\n",
    "        processed_text = ' '.join(tokens)\n",
    "\n",
    "        return processed_text\n",
    "\n",
    "    # Preprocess each story in the data, retaining only the preprocessed text\n",
    "    preprocessed_data = []\n",
    "    for story in data:\n",
    "        preprocessed_text = preprocess_text(story['story_text'])\n",
    "        preprocessed_data.append(preprocessed_text)\n",
    "\n",
    "    # Write the preprocessed data to the output file\n",
    "    with open(output_file_path, 'w', encoding='utf-8') as f:\n",
    "        json.dump(preprocessed_data, f, ensure_ascii=False, indent=4)\n",
    "\n",
    "# Example usage\n",
    "input_file_path = 'sampled_500.json'\n",
    "output_file_path = 'tokenizedRawORD.json'\n",
    "preprocess_corpus(input_file_path, output_file_path)\n"
   ]
  },
  {
   "cell_type": "markdown",
   "metadata": {},
   "source": [
    "##### Clean Tokenizing by Removing MetaInfo"
   ]
  },
  {
   "cell_type": "code",
   "execution_count": 10,
   "metadata": {},
   "outputs": [],
   "source": [
    "import json\n",
    "\n",
    "def strip_metainfo(input_file_path, output_file_path):\n",
    "    # Read the JSON file\n",
    "    with open(input_file_path, 'r') as infile:\n",
    "        stories = json.load(infile)\n",
    "    \n",
    "    # Process each story to strip meta info\n",
    "    stripped_stories = []\n",
    "    for story in stories:\n",
    "        # Find the position of the word 'body'\n",
    "        body_index = story.find('body')\n",
    "        if body_index != -1:\n",
    "            # Extract the content before the word 'body'\n",
    "            stripped_story = story[body_index + len('body'):].strip()\n",
    "            stripped_stories.append(stripped_story)\n",
    "    \n",
    "    # Write the stripped content to a new JSON file\n",
    "    with open(output_file_path, 'w') as outfile:\n",
    "        json.dump(stripped_stories, outfile, indent=2)\n",
    "\n",
    "# Example usage\n",
    "input_file_path  = 'XXXRaw.json'\n",
    "output_file_path = 'YYYFine.json'\n",
    "strip_metainfo(input_file_path, output_file_path)\n"
   ]
  }
 ],
 "metadata": {
  "kernelspec": {
   "display_name": "Python 3",
   "language": "python",
   "name": "python3"
  },
  "language_info": {
   "codemirror_mode": {
    "name": "ipython",
    "version": 3
   },
   "file_extension": ".py",
   "mimetype": "text/x-python",
   "name": "python",
   "nbconvert_exporter": "python",
   "pygments_lexer": "ipython3",
   "version": "3.12.3"
  }
 },
 "nbformat": 4,
 "nbformat_minor": 2
}
