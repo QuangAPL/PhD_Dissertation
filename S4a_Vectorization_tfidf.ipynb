{
 "cells": [
  {
   "cell_type": "markdown",
   "metadata": {},
   "source": [
    "### Process Overview:\n",
    "- Inputs: preprocessed_100.json\n",
    "\n",
    "- Outputs: vectorized_100.csv \n",
    "\n",
    "Note: Output file may be saved with 'vectorized_200.npy' format"
   ]
  },
  {
   "cell_type": "code",
   "execution_count": 2,
   "metadata": {},
   "outputs": [],
   "source": [
    "import json\n",
    "import pandas as pd\n",
    "import numpy as np\n",
    "from sklearn.feature_extraction.text import TfidfVectorizer\n",
    "\n",
    "def vectorized_corpus(input_file_path, output_file_path, vector_type='csv', max_features=5000):\n",
    "    # Load the tokenized data\n",
    "    with open(input_file_path, 'r') as file:\n",
    "        tokenized_data = json.load(file)\n",
    "    \n",
    "    # Assume tokenized_data is a list of strings\n",
    "    # Initialize the TF-IDF Vectorizer\n",
    "    vectorizer = TfidfVectorizer(max_features=max_features)\n",
    "\n",
    "    # Vectorize the tokenized text\n",
    "    tfidf_matrix = vectorizer.fit_transform(tokenized_data)\n",
    "\n",
    "    # Convert to a dense matrix (optional, depending on what you need next)\n",
    "    tfidf_dense = tfidf_matrix.todense()\n",
    "\n",
    "    if vector_type == 'csv':\n",
    "        # Get feature names\n",
    "        feature_names = vectorizer.get_feature_names_out()\n",
    "\n",
    "        # Save as a DataFrame\n",
    "        df_tfidf = pd.DataFrame(tfidf_dense, columns=feature_names)\n",
    "        df_tfidf.to_csv(output_file_path, index=False)\n",
    "\n",
    "    elif vector_type == 'npy':\n",
    "        # Save vectorized file as a Numpy array\n",
    "        np.save(output_file_path, tfidf_dense)\n",
    "\n",
    "# Example usage\n",
    "input_file_path = 'tokenized_300.json'\n",
    "output_file_path_csv = 'tfidf_vectorized_300.csv'\n",
    "output_file_path_npy = 'tfidf_vectorized_300.npy'\n",
    "vectorized_corpus(input_file_path, output_file_path_csv, vector_type='csv')\n",
    "vectorized_corpus(input_file_path, output_file_path_npy, vector_type='npy')\n"
   ]
  }
 ],
 "metadata": {
  "kernelspec": {
   "display_name": "Python 3",
   "language": "python",
   "name": "python3"
  },
  "language_info": {
   "codemirror_mode": {
    "name": "ipython",
    "version": 3
   },
   "file_extension": ".py",
   "mimetype": "text/x-python",
   "name": "python",
   "nbconvert_exporter": "python",
   "pygments_lexer": "ipython3",
   "version": "3.12.3"
  }
 },
 "nbformat": 4,
 "nbformat_minor": 2
}
