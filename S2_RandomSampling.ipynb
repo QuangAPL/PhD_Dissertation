{
 "cells": [
  {
   "cell_type": "markdown",
   "metadata": {},
   "source": [
    "### Randomly Sampling 500 News Stories\n",
    "- Input: clean_corpus.json\n",
    "\n",
    "- Output: sampled_100.json \n",
    "\n",
    "Note: After sampling, change the filename to sampled_corpus.json to fix the samples"
   ]
  },
  {
   "cell_type": "code",
   "execution_count": 1,
   "metadata": {},
   "outputs": [
    {
     "name": "stdout",
     "output_type": "stream",
     "text": [
      "Sampled stories written to sampled_300.json\n"
     ]
    }
   ],
   "source": [
    "import json\n",
    "import random\n",
    "\n",
    "def sampling_corpus(input_file_path, num_samples, output_file_path):\n",
    "    # Load all stories from the input file\n",
    "    with open(input_file_path, 'r', encoding='utf-8') as f:\n",
    "        all_stories = json.load(f)\n",
    "\n",
    "    # Ensure the number of samples does not exceed the total number of stories\n",
    "    if num_samples > len(all_stories):\n",
    "        print(f\"Warning: num_samples ({num_samples}) is greater than the total number of stories ({len(all_stories)}). Sampling all available stories.\")\n",
    "        num_samples = len(all_stories)\n",
    "\n",
    "    # Randomly sample the specified number of stories\n",
    "    sampled_stories = random.sample(all_stories, num_samples)\n",
    "\n",
    "    # Write the sampled stories to a JSON file\n",
    "    with open(output_file_path, 'w', encoding='utf-8') as f:\n",
    "        json.dump(sampled_stories, f, ensure_ascii=False, indent=4)\n",
    "\n",
    "    print(f\"Sampled stories written to {output_file_path}\")\n",
    "\n",
    "# Example usage\n",
    "input_file_path = 'clean_corpus.json'\n",
    "num_samples = 300\n",
    "output_file_path = 'sampled_300.json'\n",
    "sampling_corpus(input_file_path, num_samples, output_file_path)\n"
   ]
  }
 ],
 "metadata": {
  "kernelspec": {
   "display_name": "Python 3",
   "language": "python",
   "name": "python3"
  },
  "language_info": {
   "codemirror_mode": {
    "name": "ipython",
    "version": 3
   },
   "file_extension": ".py",
   "mimetype": "text/x-python",
   "name": "python",
   "nbconvert_exporter": "python",
   "pygments_lexer": "ipython3",
   "version": "3.12.3"
  }
 },
 "nbformat": 4,
 "nbformat_minor": 2
}
