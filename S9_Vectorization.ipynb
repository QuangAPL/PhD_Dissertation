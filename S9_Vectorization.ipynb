{
 "cells": [
  {
   "cell_type": "markdown",
   "metadata": {},
   "source": [
    "##### Vecterization - TFIDF Model"
   ]
  },
  {
   "cell_type": "code",
   "execution_count": 1,
   "metadata": {},
   "outputs": [],
   "source": [
    "import json\n",
    "import pandas as pd\n",
    "from sklearn.feature_extraction.text import TfidfVectorizer\n",
    "\n",
    "def vectorize_tfidf(input_file_path, output_file_path, max_features=5000):\n",
    "    # Load the tokenized data\n",
    "    with open(input_file_path, 'r') as file:\n",
    "        tokenized_data = json.load(file)\n",
    "    \n",
    "    # Assume tokenized_data is a list of strings\n",
    "    # Initialize the TF-IDF Vectorizer\n",
    "    vectorizer = TfidfVectorizer(max_features=max_features)\n",
    "\n",
    "    # Vectorize the tokenized text\n",
    "    tfidf_matrix = vectorizer.fit_transform(tokenized_data)\n",
    "\n",
    "    # Convert to a dense matrix (optional, depending on what you need next)\n",
    "    tfidf_dense = tfidf_matrix.todense()\n",
    "\n",
    "    # Get feature names\n",
    "    feature_names = vectorizer.get_feature_names_out()\n",
    "\n",
    "    # Save as a DataFrame\n",
    "    df_tfidf = pd.DataFrame(tfidf_dense, columns=feature_names)\n",
    "    df_tfidf.to_csv(output_file_path, index=False)\n",
    "\n",
    "# Example usage\n",
    "input_file_path = 'tokenizedFine_500.json'\n",
    "output_file_path_csv = 'vectorized_tfidf_500.csv'\n",
    "vectorize_tfidf(input_file_path, output_file_path_csv)\n"
   ]
  },
  {
   "cell_type": "markdown",
   "metadata": {},
   "source": [
    "##### Vectorization - Word2Vec Model"
   ]
  },
  {
   "cell_type": "code",
   "execution_count": 3,
   "metadata": {},
   "outputs": [
    {
     "name": "stdout",
     "output_type": "stream",
     "text": [
      "        0         1         2         3         4         5         6    \\\n",
      "0 -0.165428  0.107099  0.001637  0.143367 -0.055113  0.031613 -0.082781   \n",
      "1 -0.173621  0.111918 -0.009212  0.148324 -0.055365  0.028645 -0.090516   \n",
      "2 -0.165929  0.104537 -0.003498  0.147889 -0.047564  0.036003 -0.090263   \n",
      "3 -0.177368  0.109985 -0.004393  0.143877 -0.057125  0.028582 -0.091152   \n",
      "4 -0.175456  0.108809 -0.001063  0.145820 -0.058571  0.027787 -0.087788   \n",
      "\n",
      "        7         8         9    ...       290       291       292       293  \\\n",
      "0 -0.042662 -0.052666  0.020204  ...  0.072768 -0.012931 -0.095594  0.090816   \n",
      "1 -0.041874 -0.050795  0.014736  ...  0.069281 -0.022265 -0.099932  0.092044   \n",
      "2 -0.038675 -0.062213  0.019466  ...  0.075460 -0.024503 -0.094931  0.093182   \n",
      "3 -0.043504 -0.053090  0.017316  ...  0.073050 -0.013688 -0.094131  0.090452   \n",
      "4 -0.044034 -0.041847  0.015771  ...  0.070618 -0.019537 -0.095376  0.087878   \n",
      "\n",
      "        294       295       296       297       298       299  \n",
      "0 -0.031985 -0.155514 -0.098949 -0.024911 -0.116503  0.148239  \n",
      "1 -0.026596 -0.155496 -0.098831 -0.026563 -0.108999  0.157167  \n",
      "2 -0.027055 -0.149241 -0.096995 -0.022035 -0.119186  0.156752  \n",
      "3 -0.026686 -0.154862 -0.102772 -0.025535 -0.112171  0.153934  \n",
      "4 -0.028224 -0.153971 -0.093424 -0.025063 -0.108553  0.154358  \n",
      "\n",
      "[5 rows x 300 columns]\n"
     ]
    }
   ],
   "source": [
    "import json\n",
    "import gensim\n",
    "import numpy as np\n",
    "import pandas as pd\n",
    "\n",
    "def vectorize_word2vec(input_file_path, output_file_path, embedding_model_path):\n",
    "    # Load pre-trained Word2Vec model\n",
    "    word2vec_model = gensim.models.KeyedVectors.load_word2vec_format(embedding_model_path, binary=True)\n",
    "    \n",
    "    # Load tokenized data from input file\n",
    "    with open(input_file_path, 'r') as file:\n",
    "        data = json.load(file)\n",
    "    \n",
    "    # Initialize an empty list to store embeddings\n",
    "    embeddings = []\n",
    "    \n",
    "    # Iterate through each tokenized document\n",
    "    for doc in data:\n",
    "        # Remove non-relevant tokens\n",
    "        doc = [token for token in doc if token in word2vec_model.key_to_index]\n",
    "        # Initialize an empty list to store embeddings for tokens in the document\n",
    "        doc_embeddings = []\n",
    "        # Iterate through tokens in the document\n",
    "        for token in doc:\n",
    "            # Retrieve word embedding for the token\n",
    "            embedding = word2vec_model[token]\n",
    "            doc_embeddings.append(embedding)\n",
    "        # Calculate the mean embedding for the document\n",
    "        if doc_embeddings:\n",
    "            mean_embedding = np.mean(doc_embeddings, axis=0)\n",
    "            embeddings.append(mean_embedding)\n",
    "        else:\n",
    "            # If no embeddings found for the document, use zeros\n",
    "            embeddings.append(np.zeros(word2vec_model.vector_size))\n",
    "    \n",
    "    # Convert embeddings to DataFrame\n",
    "    embeddings_df = pd.DataFrame(embeddings)\n",
    "    \n",
    "    # Print first few rows of the DataFrame\n",
    "    print(embeddings_df.head())\n",
    "    \n",
    "    # Save embeddings to CSV file\n",
    "    embeddings_df.to_csv(output_file_path, index=False)\n",
    "\n",
    "# Example usage:\n",
    "input_file_path = \"tokenizedFine_500.json\"\n",
    "output_file_path = \"vectorized_word2vec_500.csv\"\n",
    "embedding_model_path = \"/Users/QuangAP/gensim/GoogleNews-vectors-negative300.bin\"\n",
    "vectorize_word2vec(input_file_path, output_file_path, embedding_model_path)"
   ]
  },
  {
   "cell_type": "markdown",
   "metadata": {},
   "source": [
    "##### Vectorization - BERT-Based Model"
   ]
  },
  {
   "cell_type": "code",
   "execution_count": 4,
   "metadata": {},
   "outputs": [
    {
     "name": "stderr",
     "output_type": "stream",
     "text": [
      "/Library/Frameworks/Python.framework/Versions/3.12/lib/python3.12/site-packages/tqdm/auto.py:21: TqdmWarning: IProgress not found. Please update jupyter and ipywidgets. See https://ipywidgets.readthedocs.io/en/stable/user_install.html\n",
      "  from .autonotebook import tqdm as notebook_tqdm\n"
     ]
    }
   ],
   "source": [
    "import json\n",
    "import pandas as pd\n",
    "import torch\n",
    "from transformers import BertTokenizer, BertModel\n",
    "\n",
    "def vectorize_bert(input_file_path, output_file_path):\n",
    "    # Load the tokenized text from the JSON file\n",
    "    with open(input_file_path, 'r') as file:\n",
    "        tokenized_texts = json.load(file)\n",
    "    \n",
    "    # Initialize BERT model and tokenizer\n",
    "    tokenizer = BertTokenizer.from_pretrained('bert-base-uncased')\n",
    "    model = BertModel.from_pretrained('bert-base-uncased')\n",
    "\n",
    "    # Ensure the model is in evaluation mode\n",
    "    model.eval()\n",
    "\n",
    "    # Function to get BERT embeddings\n",
    "    def get_bert_embedding(tokens):\n",
    "        # Tokenize and create tensor\n",
    "        inputs = tokenizer(tokens, return_tensors='pt', is_split_into_words=True, padding=True, truncation=True)\n",
    "        with torch.no_grad():\n",
    "            outputs = model(**inputs)\n",
    "        # Get the embeddings from the last hidden state\n",
    "        embeddings = outputs.last_hidden_state\n",
    "        # Take the mean of the token embeddings to get a sentence-level embedding\n",
    "        sentence_embedding = torch.mean(embeddings, dim=1)\n",
    "        return sentence_embedding.squeeze().numpy()\n",
    "\n",
    "    # Process each tokenized text and get embeddings\n",
    "    embeddings = []\n",
    "    for tokens in tokenized_texts:\n",
    "        embedding = get_bert_embedding(tokens)\n",
    "        embeddings.append(embedding)\n",
    "\n",
    "    # Convert embeddings to DataFrame and save as CSV\n",
    "    df = pd.DataFrame(embeddings)\n",
    "    df.to_csv(output_file_path, index=False)\n",
    "\n",
    "# Example usage\n",
    "input_file_path = 'tokenizedFine_500.json'\n",
    "output_file_path = 'vectorized_bert_500.csv'\n",
    "vectorize_bert(input_file_path, output_file_path)\n"
   ]
  }
 ],
 "metadata": {
  "kernelspec": {
   "display_name": "Python 3",
   "language": "python",
   "name": "python3"
  },
  "language_info": {
   "codemirror_mode": {
    "name": "ipython",
    "version": 3
   },
   "file_extension": ".py",
   "mimetype": "text/x-python",
   "name": "python",
   "nbconvert_exporter": "python",
   "pygments_lexer": "ipython3",
   "version": "3.12.3"
  }
 },
 "nbformat": 4,
 "nbformat_minor": 2
}
