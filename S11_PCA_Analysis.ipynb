{
 "cells": [
  {
   "cell_type": "markdown",
   "metadata": {},
   "source": [
    "##### Function PCA_Word2Vec "
   ]
  },
  {
   "cell_type": "code",
   "execution_count": 1,
   "metadata": {},
   "outputs": [],
   "source": [
    "import pandas as pd\n",
    "from sklearn.preprocessing import StandardScaler\n",
    "from sklearn.decomposition import PCA\n",
    "\n",
    "def pca_bert(input_file_path, output_file_path, n_components=2):\n",
    "    # Load the embeddings\n",
    "    embeddings = pd.read_csv(input_file_path)\n",
    "    \n",
    "    # Normalize the data\n",
    "    scaler = StandardScaler()\n",
    "    embeddings_scaled = scaler.fit_transform(embeddings)\n",
    "    \n",
    "    # Apply PCA\n",
    "    pca = PCA(n_components=n_components)\n",
    "    embeddings_pca = pca.fit_transform(embeddings_scaled)\n",
    "    \n",
    "    # Convert the result to a DataFrame\n",
    "    embeddings_pca_df = pd.DataFrame(embeddings_pca, columns=[f'PC{i+1}' for i in range(n_components)])\n",
    "    \n",
    "    # Save the PCA results to a CSV file\n",
    "    embeddings_pca_df.to_csv(output_file_path, index=False)\n",
    "\n",
    "# Example usage for Word2Vec\n",
    "input_file_path_word2vec = 'vectorized_word2vec_300.csv'\n",
    "output_file_path_word2vec_pca = 'pca_word2vec.csv'\n",
    "pca_bert(input_file_path_word2vec, output_file_path_word2vec_pca)\n"
   ]
  }
 ],
 "metadata": {
  "kernelspec": {
   "display_name": "Python 3",
   "language": "python",
   "name": "python3"
  },
  "language_info": {
   "codemirror_mode": {
    "name": "ipython",
    "version": 3
   },
   "file_extension": ".py",
   "mimetype": "text/x-python",
   "name": "python",
   "nbconvert_exporter": "python",
   "pygments_lexer": "ipython3",
   "version": "3.12.3"
  }
 },
 "nbformat": 4,
 "nbformat_minor": 2
}
